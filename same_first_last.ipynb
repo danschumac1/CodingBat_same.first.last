{
 "cells": [
  {
   "cell_type": "markdown",
   "id": "f43af55a",
   "metadata": {},
   "source": [
    "# List-1 > same_first_last"
   ]
  },
  {
   "cell_type": "markdown",
   "id": "73b83628",
   "metadata": {},
   "source": [
    "Given an array of ints, return True if the array is length 1 or more, and the first element and the last element are equal.\n",
    "\n",
    "\n",
    "same_first_last([1, 2, 3]) → False\n",
    "\n",
    "same_first_last([1, 2, 3, 1]) → True\n",
    "\n",
    "same_first_last([1, 2, 1]) → True"
   ]
  },
  {
   "cell_type": "code",
   "execution_count": 2,
   "id": "a596f7d6",
   "metadata": {},
   "outputs": [],
   "source": [
    "def same_first_last(nums):\n",
    "  if len(nums)>=1 and nums[0]==nums[-1]:\n",
    "    return True\n",
    "  else:\n",
    "    return False"
   ]
  }
 ],
 "metadata": {
  "kernelspec": {
   "display_name": "Python 3 (ipykernel)",
   "language": "python",
   "name": "python3"
  },
  "language_info": {
   "codemirror_mode": {
    "name": "ipython",
    "version": 3
   },
   "file_extension": ".py",
   "mimetype": "text/x-python",
   "name": "python",
   "nbconvert_exporter": "python",
   "pygments_lexer": "ipython3",
   "version": "3.9.12"
  }
 },
 "nbformat": 4,
 "nbformat_minor": 5
}
